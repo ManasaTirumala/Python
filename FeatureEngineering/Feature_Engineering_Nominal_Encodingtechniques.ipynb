{
  "nbformat": 4,
  "nbformat_minor": 0,
  "metadata": {
    "colab": {
      "name": "Feature Engineering_Nominal Encodingtechniques.ipynb",
      "provenance": [],
      "collapsed_sections": [],
      "authorship_tag": "ABX9TyNTQVOA+3ObMkwsHnVDyWs6",
      "include_colab_link": true
    },
    "kernelspec": {
      "name": "python3",
      "display_name": "Python 3"
    }
  },
  "cells": [
    {
      "cell_type": "markdown",
      "metadata": {
        "id": "view-in-github",
        "colab_type": "text"
      },
      "source": [
        "<a href=\"https://colab.research.google.com/github/ManasaTirumala/hello-world/blob/master/Feature_Engineering_Nominal_Encodingtechniques.ipynb\" target=\"_parent\"><img src=\"https://colab.research.google.com/assets/colab-badge.svg\" alt=\"Open In Colab\"/></a>"
      ]
    },
    {
      "cell_type": "code",
      "metadata": {
        "id": "JyJQsPvf1scj",
        "colab": {
          "base_uri": "https://localhost:8080/",
          "height": 419
        },
        "outputId": "2934612a-bc96-43cd-e920-d177cf06f53d"
      },
      "source": [
        "import pandas as pd\n",
        "import numpy as np\n",
        "df= pd.read_csv('BenzData.csv', usecols=['X1','X2','X3','X4','X5','X6','X8'])\n",
        "df.head(100)\n",
        "\n"
      ],
      "execution_count": 5,
      "outputs": [
        {
          "output_type": "execute_result",
          "data": {
            "text/html": [
              "<div>\n",
              "<style scoped>\n",
              "    .dataframe tbody tr th:only-of-type {\n",
              "        vertical-align: middle;\n",
              "    }\n",
              "\n",
              "    .dataframe tbody tr th {\n",
              "        vertical-align: top;\n",
              "    }\n",
              "\n",
              "    .dataframe thead th {\n",
              "        text-align: right;\n",
              "    }\n",
              "</style>\n",
              "<table border=\"1\" class=\"dataframe\">\n",
              "  <thead>\n",
              "    <tr style=\"text-align: right;\">\n",
              "      <th></th>\n",
              "      <th>X1</th>\n",
              "      <th>X2</th>\n",
              "      <th>X3</th>\n",
              "      <th>X4</th>\n",
              "      <th>X5</th>\n",
              "      <th>X6</th>\n",
              "      <th>X8</th>\n",
              "    </tr>\n",
              "  </thead>\n",
              "  <tbody>\n",
              "    <tr>\n",
              "      <th>0</th>\n",
              "      <td>v</td>\n",
              "      <td>n</td>\n",
              "      <td>f</td>\n",
              "      <td>d</td>\n",
              "      <td>t</td>\n",
              "      <td>a</td>\n",
              "      <td>w</td>\n",
              "    </tr>\n",
              "    <tr>\n",
              "      <th>1</th>\n",
              "      <td>b</td>\n",
              "      <td>ai</td>\n",
              "      <td>a</td>\n",
              "      <td>d</td>\n",
              "      <td>b</td>\n",
              "      <td>g</td>\n",
              "      <td>y</td>\n",
              "    </tr>\n",
              "    <tr>\n",
              "      <th>2</th>\n",
              "      <td>v</td>\n",
              "      <td>as</td>\n",
              "      <td>f</td>\n",
              "      <td>d</td>\n",
              "      <td>a</td>\n",
              "      <td>j</td>\n",
              "      <td>j</td>\n",
              "    </tr>\n",
              "    <tr>\n",
              "      <th>3</th>\n",
              "      <td>l</td>\n",
              "      <td>n</td>\n",
              "      <td>f</td>\n",
              "      <td>d</td>\n",
              "      <td>z</td>\n",
              "      <td>l</td>\n",
              "      <td>n</td>\n",
              "    </tr>\n",
              "    <tr>\n",
              "      <th>4</th>\n",
              "      <td>s</td>\n",
              "      <td>as</td>\n",
              "      <td>c</td>\n",
              "      <td>d</td>\n",
              "      <td>y</td>\n",
              "      <td>i</td>\n",
              "      <td>m</td>\n",
              "    </tr>\n",
              "    <tr>\n",
              "      <th>...</th>\n",
              "      <td>...</td>\n",
              "      <td>...</td>\n",
              "      <td>...</td>\n",
              "      <td>...</td>\n",
              "      <td>...</td>\n",
              "      <td>...</td>\n",
              "      <td>...</td>\n",
              "    </tr>\n",
              "    <tr>\n",
              "      <th>95</th>\n",
              "      <td>b</td>\n",
              "      <td>m</td>\n",
              "      <td>c</td>\n",
              "      <td>d</td>\n",
              "      <td>j</td>\n",
              "      <td>j</td>\n",
              "      <td>n</td>\n",
              "    </tr>\n",
              "    <tr>\n",
              "      <th>96</th>\n",
              "      <td>b</td>\n",
              "      <td>m</td>\n",
              "      <td>c</td>\n",
              "      <td>d</td>\n",
              "      <td>j</td>\n",
              "      <td>j</td>\n",
              "      <td>n</td>\n",
              "    </tr>\n",
              "    <tr>\n",
              "      <th>97</th>\n",
              "      <td>aa</td>\n",
              "      <td>as</td>\n",
              "      <td>c</td>\n",
              "      <td>d</td>\n",
              "      <td>j</td>\n",
              "      <td>g</td>\n",
              "      <td>n</td>\n",
              "    </tr>\n",
              "    <tr>\n",
              "      <th>98</th>\n",
              "      <td>s</td>\n",
              "      <td>m</td>\n",
              "      <td>c</td>\n",
              "      <td>d</td>\n",
              "      <td>j</td>\n",
              "      <td>i</td>\n",
              "      <td>v</td>\n",
              "    </tr>\n",
              "    <tr>\n",
              "      <th>99</th>\n",
              "      <td>s</td>\n",
              "      <td>m</td>\n",
              "      <td>c</td>\n",
              "      <td>d</td>\n",
              "      <td>j</td>\n",
              "      <td>i</td>\n",
              "      <td>b</td>\n",
              "    </tr>\n",
              "  </tbody>\n",
              "</table>\n",
              "<p>100 rows × 7 columns</p>\n",
              "</div>"
            ],
            "text/plain": [
              "    X1  X2 X3 X4 X5 X6 X8\n",
              "0    v   n  f  d  t  a  w\n",
              "1    b  ai  a  d  b  g  y\n",
              "2    v  as  f  d  a  j  j\n",
              "3    l   n  f  d  z  l  n\n",
              "4    s  as  c  d  y  i  m\n",
              "..  ..  .. .. .. .. .. ..\n",
              "95   b   m  c  d  j  j  n\n",
              "96   b   m  c  d  j  j  n\n",
              "97  aa  as  c  d  j  g  n\n",
              "98   s   m  c  d  j  i  v\n",
              "99   s   m  c  d  j  i  b\n",
              "\n",
              "[100 rows x 7 columns]"
            ]
          },
          "metadata": {
            "tags": []
          },
          "execution_count": 5
        }
      ]
    },
    {
      "cell_type": "code",
      "metadata": {
        "id": "IMRCE8_-GZMj",
        "colab": {
          "base_uri": "https://localhost:8080/"
        },
        "outputId": "203475de-76e3-46e5-d09a-426e90c14227"
      },
      "source": [
        "for cat in df.columns:\n",
        "   print(cat, '::', len(df[cat].unique()),\"labels\")\n",
        "pd.get_dummies(df,drop_first=True).shape"
      ],
      "execution_count": 6,
      "outputs": [
        {
          "output_type": "stream",
          "text": [
            "X1 :: 27 labels\n",
            "X2 :: 41 labels\n",
            "X3 :: 7 labels\n",
            "X4 :: 4 labels\n",
            "X5 :: 25 labels\n",
            "X6 :: 12 labels\n",
            "X8 :: 25 labels\n"
          ],
          "name": "stdout"
        },
        {
          "output_type": "execute_result",
          "data": {
            "text/plain": [
              "(2763, 134)"
            ]
          },
          "metadata": {
            "tags": []
          },
          "execution_count": 6
        }
      ]
    },
    {
      "cell_type": "code",
      "metadata": {
        "colab": {
          "base_uri": "https://localhost:8080/"
        },
        "id": "dItvVubd-0GH",
        "outputId": "862aab3b-71d2-462f-f387-ad9716313f84"
      },
      "source": [
        " freq=df.X1.value_counts().sort_values(ascending=False)\n",
        " freq \n",
        "\n",
        " top_10=[x for x in freq.head(10).index] \n",
        " top_10\n",
        " "
      ],
      "execution_count": 8,
      "outputs": [
        {
          "output_type": "execute_result",
          "data": {
            "text/plain": [
              "['aa', 'b', 'l', 's', 'v', 'r', 'i', 'a', 'c', 'o']"
            ]
          },
          "metadata": {
            "tags": []
          },
          "execution_count": 8
        }
      ]
    },
    {
      "cell_type": "code",
      "metadata": {
        "id": "tYPBgoz1IbG2"
      },
      "source": [
        "for label in top_10:\n",
        "  print(df[label])\n",
        "  \n",
        "  "
      ],
      "execution_count": null,
      "outputs": []
    }
  ]
}
